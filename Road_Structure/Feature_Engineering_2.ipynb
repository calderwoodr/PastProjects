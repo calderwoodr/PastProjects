{
 "cells": [
  {
   "cell_type": "code",
   "execution_count": 1,
   "metadata": {},
   "outputs": [],
   "source": [
    "import pandas as pd\n",
    "import numpy as np\n",
    "import pickle\n",
    "import re\n",
    "from matplotlib import pyplot as plt\n",
    "import ImprovedOSMToGraph as mkgraph\n",
    "import xml.sax\n",
    "import copy\n",
    "import networkx\n",
    "import scipy.spatial as spa\n",
    "import time\n",
    "import numpy.linalg as nla\n",
    "import statsmodels.api as sm\n",
    "import statsmodels.formula.api as smf"
   ]
  },
  {
   "cell_type": "code",
   "execution_count": 2,
   "metadata": {},
   "outputs": [],
   "source": [
    "seattle = pd.read_csv(\"Featured_Seattle.csv\")\n",
    "baton = pd.read_csv(\"Featured_Baton.csv\")\n",
    "bloom = pd.read_csv(\"Featured_Bloom.csv\")"
   ]
  },
  {
   "cell_type": "code",
   "execution_count": 3,
   "metadata": {},
   "outputs": [],
   "source": [
    "def load_graph(filename):\n",
    "    with open(filename, 'rb') as file:\n",
    "        graph = pickle.load(file)\n",
    "    return graph\n",
    "\n",
    "seattle_graph = load_graph(\"seattle_graph\")\n",
    "baton_graph = load_graph(\"baton_rouge_graph\")\n",
    "bloom_graph = load_graph(\"bloomington_graph\")"
   ]
  },
  {
   "cell_type": "code",
   "execution_count": 66,
   "metadata": {},
   "outputs": [],
   "source": [
    "def gather_key_values(c_node_ids, graph, wanted_tag):\n",
    "    \"\"\"\n",
    "        Takes in ids of nodes we're interested in and the tag we care about\n",
    "        Returns the values of the nodes at that tag\n",
    "    \"\"\"\n",
    "    per_node = []\n",
    "    for n in c_node_ids:\n",
    "        node_tags = graph.node[str(n)]['tags']\n",
    "        if wanted_tag in node_tags:\n",
    "            \n",
    "            if(node_tags[wanted_tag] == \"elevator\"):\n",
    "                per_node.append(wanted_tag + \"_\" + \"UNKNOWN\")\n",
    "            else:\n",
    "                per_node.append(wanted_tag + \"_\" + node_tags[wanted_tag])\n",
    "        else:\n",
    "            per_node.append(wanted_tag + \"_\" + \"UNKNOWN\")\n",
    "            \n",
    "    return per_node\n",
    "        "
   ]
  },
  {
   "cell_type": "code",
   "execution_count": 67,
   "metadata": {},
   "outputs": [],
   "source": [
    "wanted_keys = [\"traffic_signals\", \"crossing\", \"access\", \"junction\",\n",
    "               \"highway\", \"traffic_calming\",\"stop\"]\n",
    "\n",
    "def encode(crash_data, graph, wanted_keys):\n",
    "    hots = []\n",
    "    for key in wanted_keys:\n",
    "        key_values_list = gather_key_values(list(crash_data[\"NODE\"]), graph, key)       \n",
    "        crash_data[key] = key_values_list\n",
    "        hot = pd.get_dummies(crash_data[key])\n",
    "        \n",
    "        crash_data = pd.concat([crash_data, hot], axis=1)\n",
    "\n",
    "    \n",
    "    return crash_data\n",
    "    "
   ]
  },
  {
   "cell_type": "code",
   "execution_count": 69,
   "metadata": {},
   "outputs": [],
   "source": [
    "finished_seattle = encode(seattle, seattle_graph, wanted_keys)\n",
    "finished_baton = encode(baton, baton_graph, wanted_keys)\n",
    "finished_bloom = encode(bloom, bloom_graph, wanted_keys)"
   ]
  },
  {
   "cell_type": "code",
   "execution_count": 71,
   "metadata": {},
   "outputs": [],
   "source": [
    "finished_seattle.to_csv(\"Complete_Seattle.csv\")"
   ]
  },
  {
   "cell_type": "code",
   "execution_count": 72,
   "metadata": {},
   "outputs": [
    {
     "data": {
      "text/plain": [
       "Index(['Unnamed: 0', 'Unnamed: 0.1', 'LONGITUDE', 'LATITUDE', 'INJURIES',\n",
       "       'SERIOUSINJURIES', 'FATALITIES', 'INCDATE', 'INCDTTM', 'NODE', '1CR',\n",
       "       '2CR', '3CR', '4CR', '5CR', '6CR', '7CR', '0OneWay', '1OneWay',\n",
       "       '2OneWay', '3OneWay', '4OneWay', '5OneWay', '6OneWay', '0Ingoing',\n",
       "       '1Ingoing', '2Ingoing', '3Ingoing', '4Ingoing', '5Ingoing', '6Ingoing',\n",
       "       '0Outgoing', '1Outgoing', '2Outgoing', '3Outgoing', '4Outgoing',\n",
       "       '5Outgoing', '6Outgoing', 'traffic_signals', 'traffic_signals_UNKNOWN',\n",
       "       'traffic_signals_ramp_meter', 'traffic_signals_signal', 'crossing',\n",
       "       'crossing_UNKNOWN', 'crossing_controlled', 'crossing_island',\n",
       "       'crossing_no', 'crossing_traffic_signals', 'crossing_uncontrolled',\n",
       "       'crossing_unmarked', 'crossing_yes', 'crossing_zebra', 'access',\n",
       "       'access_UNKNOWN', 'access_private', 'junction', 'junction_UNKNOWN',\n",
       "       'junction_roundabout', 'highway', 'highway_UNKNOWN', 'highway_bus_stop',\n",
       "       'highway_crossing', 'highway_give_way', 'highway_mini_roundabout',\n",
       "       'highway_motorway_junction', 'highway_stop', 'highway_traffic_signals',\n",
       "       'highway_turning_circle', 'highway_turning_loop', 'traffic_calming',\n",
       "       'traffic_calming_UNKNOWN', 'traffic_calming_bump',\n",
       "       'traffic_calming_chicane', 'traffic_calming_choker',\n",
       "       'traffic_calming_cushion', 'traffic_calming_hump',\n",
       "       'traffic_calming_island', 'traffic_calming_yes', 'stop', 'stop_UNKNOWN',\n",
       "       'stop_all'],\n",
       "      dtype='object')"
      ]
     },
     "execution_count": 72,
     "metadata": {},
     "output_type": "execute_result"
    }
   ],
   "source": [
    "finished_seattle.columns"
   ]
  },
  {
   "cell_type": "code",
   "execution_count": 33,
   "metadata": {},
   "outputs": [
    {
     "name": "stdout",
     "output_type": "stream",
     "text": [
      "{'turning_loop', 'give_way', 'UNKNOWN', 'mini_roundabout', 'stop', 'traffic_signals', 'motorway_junction', 'turning_circle', 'crossing', 'bus_stop'}\n"
     ]
    }
   ],
   "source": [
    "highway = gather_key_values(list(seattle[\"NODE\"]), seattle_graph, \"highway\")\n",
    "highway_uniques = set()\n",
    "for value in highway:\n",
    "    highway_uniques.add(value)\n",
    "print(highway_uniques)"
   ]
  },
  {
   "cell_type": "code",
   "execution_count": 19,
   "metadata": {},
   "outputs": [
    {
     "name": "stdout",
     "output_type": "stream",
     "text": [
      "{'signal', 'ramp_meter', 'UNKNOWN'}\n"
     ]
    }
   ],
   "source": [
    "traffic_signals= gather_key_values(list(seattle[\"NODE\"]), seattle_graph, \"traffic_signals\")\n",
    "signals_uniques = set()\n",
    "for value in traffic_signals:\n",
    "    signals_uniques.add(value)\n",
    "print(signals_uniques)"
   ]
  },
  {
   "cell_type": "code",
   "execution_count": 22,
   "metadata": {},
   "outputs": [
    {
     "name": "stdout",
     "output_type": "stream",
     "text": [
      "{'controlled', 'uncontrolled', 'island', 'UNKNOWN', 'unmarked', 'zebra', 'traffic_signals', 'yes', 'no'}\n"
     ]
    }
   ],
   "source": [
    "crossing = gather_key_values(list(seattle[\"NODE\"]), seattle_graph, \"crossing\")\n",
    "crossing_uniques = set()\n",
    "for value in crossing:\n",
    "    crossing_uniques.add(value)\n",
    "print(crossing_uniques)"
   ]
  },
  {
   "cell_type": "code",
   "execution_count": 23,
   "metadata": {},
   "outputs": [
    {
     "name": "stdout",
     "output_type": "stream",
     "text": [
      "{'private', 'UNKNOWN'}\n"
     ]
    }
   ],
   "source": [
    "access = gather_key_values(list(seattle[\"NODE\"]), seattle_graph, \"access\")\n",
    "access_uniques = set()\n",
    "for value in access:\n",
    "    access_uniques.add(value)\n",
    "print(access_uniques)"
   ]
  },
  {
   "cell_type": "code",
   "execution_count": 25,
   "metadata": {},
   "outputs": [
    {
     "name": "stdout",
     "output_type": "stream",
     "text": [
      "{'roundabout', 'UNKNOWN'}\n"
     ]
    }
   ],
   "source": [
    "junction = gather_key_values(list(seattle[\"NODE\"]), seattle_graph, \"junction\")\n",
    "junction_uniques = set()\n",
    "for value in junction:\n",
    "    junction_uniques.add(value)\n",
    "print(junction_uniques)"
   ]
  },
  {
   "cell_type": "code",
   "execution_count": 27,
   "metadata": {},
   "outputs": [
    {
     "name": "stdout",
     "output_type": "stream",
     "text": [
      "{'cushion', 'island', 'UNKNOWN', 'hump', 'bump', 'yes', 'chicane', 'choker'}\n"
     ]
    }
   ],
   "source": [
    "calming = gather_key_values(list(seattle[\"NODE\"]), seattle_graph, \"traffic_calming\")\n",
    "calming_uniques = set()\n",
    "for value in calming:\n",
    "    calming_uniques.add(value)\n",
    "print(calming_uniques)"
   ]
  },
  {
   "cell_type": "code",
   "execution_count": 28,
   "metadata": {},
   "outputs": [
    {
     "name": "stdout",
     "output_type": "stream",
     "text": [
      "{'UNKNOWN', 'all'}\n"
     ]
    }
   ],
   "source": [
    "stop = gather_key_values(list(seattle[\"NODE\"]), seattle_graph, \"stop\")\n",
    "stop_uniques = set()\n",
    "for value in stop:\n",
    "    stop_uniques.add(value)\n",
    "print(stop_uniques)"
   ]
  },
  {
   "cell_type": "code",
   "execution_count": null,
   "metadata": {},
   "outputs": [],
   "source": []
  }
 ],
 "metadata": {
  "kernelspec": {
   "display_name": "Python 3",
   "language": "python",
   "name": "python3"
  },
  "language_info": {
   "codemirror_mode": {
    "name": "ipython",
    "version": 3
   },
   "file_extension": ".py",
   "mimetype": "text/x-python",
   "name": "python",
   "nbconvert_exporter": "python",
   "pygments_lexer": "ipython3",
   "version": "3.6.5"
  }
 },
 "nbformat": 4,
 "nbformat_minor": 2
}
